{
 "cells": [
  {
   "cell_type": "markdown",
   "id": "db0c5f75-a1e6-4dfd-9215-2cb5fb4a6df5",
   "metadata": {},
   "source": [
    "# 1.Caesar Cipher or Additive Cipher or Shift Cipher\n"
   ]
  },
  {
   "cell_type": "markdown",
   "id": "07e3599e-2fb8-430c-a533-3c74f211a6dc",
   "metadata": {},
   "source": [
    "**The encryption formula is En(x) = (x + n) mod 26 and the Decryption formula is Dn(x) = (x – n) mod 26.**"
   ]
  },
  {
   "cell_type": "code",
   "execution_count": 17,
   "id": "a90c530c-da61-42c7-9663-0d79549fe099",
   "metadata": {},
   "outputs": [],
   "source": [
    "#Encryption Function\n",
    "def encryption(plaintext, key):\n",
    "    text = plaintext.lower()\n",
    "    #Range of lowercase letter is 97 to 122\n",
    "    ciphertext = \"\"\n",
    "    for char in text:\n",
    "        uniCode = ord(char)\n",
    "        if uniCode >= 97 and uniCode <= 122:\n",
    "            value = uniCode - 97\n",
    "            valueAfterShifting = (value + key) % 26\n",
    "            uniCode = valueAfterShifting + 97\n",
    "            new_char = chr(uniCode).upper()\n",
    "            ciphertext = ciphertext + new_char\n",
    "        else:\n",
    "            ciphertext = ciphertext + char\n",
    "    return ciphertext"
   ]
  },
  {
   "cell_type": "code",
   "execution_count": 18,
   "id": "b87a4198-f176-4bb6-8996-f4c2e086e0a0",
   "metadata": {},
   "outputs": [],
   "source": [
    "#Decryption Function\n",
    "def decryption(ciphertext, key):\n",
    "    text = ciphertext\n",
    "    #Range of uppercase letter is 65 to 90\n",
    "    plaintext = \"\"\n",
    "    for char in text:\n",
    "        uniCode = ord(char)\n",
    "        if uniCode >= 65 and uniCode <= 90:\n",
    "            value = uniCode - 65\n",
    "            valueAfterShifting = (value - key) % 26\n",
    "            uniCode = valueAfterShifting + 65+32\n",
    "            new_char = chr(uniCode)\n",
    "            plaintext = plaintext + new_char\n",
    "        else:\n",
    "            plaintext = plaintext + char\n",
    "    return plaintext"
   ]
  },
  {
   "cell_type": "code",
   "execution_count": 19,
   "id": "720bfb2f-5bd1-49e1-a642-bdd25d301db1",
   "metadata": {},
   "outputs": [
    {
     "name": "stdin",
     "output_type": "stream",
     "text": [
      "Enter the plaintext:  jnucse\n",
      "Enter the key:  5\n"
     ]
    },
    {
     "name": "stdout",
     "output_type": "stream",
     "text": [
      "Given plaintext:  jnucse\n",
      "Entered key :  5\n",
      "Ciphertext:  OSZHXJ\n",
      "Decrypted plaintext:  jnucse\n"
     ]
    }
   ],
   "source": [
    "#Input Section\n",
    "plaintext = input(\"Enter the plaintext: \")\n",
    "key = int(input(\"Enter the key: \"))\n",
    "\n",
    "#Function Calling\n",
    "ciphertext = encryption(plaintext, key)\n",
    "decrypted_text = decryption(ciphertext, key)\n",
    "\n",
    "#Output Section\n",
    "print(\"Given plaintext: \", plaintext)\n",
    "print(\"Entered key : \", key)\n",
    "print(\"Ciphertext: \", ciphertext)\n",
    "print(\"Decrypted plaintext: \", decrypted_text)"
   ]
  },
  {
   "cell_type": "markdown",
   "id": "eeb98ea7-accd-4a47-b04e-929be9f85423",
   "metadata": {},
   "source": [
    "# 2.Vigenere Cipher"
   ]
  },
  {
   "cell_type": "markdown",
   "id": "d9932572-cf43-4106-8622-158518af3381",
   "metadata": {},
   "source": [
    "**The main difference between the Caesar cipher and the Vigenere cipher is the way they handle the shift. In the Caesar cipher, the shift is fixed and applies to every letter in the plaintext. In the Vigenere cipher, the shift varies for each letter, depending on the corresponding letter in the keyword. This makes the Vigenere cipher more secure than the Caesar cipher.**"
   ]
  },
  {
   "cell_type": "code",
   "execution_count": 39,
   "id": "1504c008-a1ca-4cef-b70b-42cf5850c482",
   "metadata": {},
   "outputs": [],
   "source": [
    "#Key Generation\n",
    "def key_generation(key):\n",
    "    key_len = len(key)\n",
    "    key_stream = [0]*key_len\n",
    "    key = key.lower()\n",
    "    for i in range(key_len):\n",
    "        uniCode=ord(key[i])\n",
    "        value = uniCode - 97\n",
    "        key_stream[i] = value\n",
    "    return key_stream\n"
   ]
  },
  {
   "cell_type": "code",
   "execution_count": 40,
   "id": "5f3b00b6-14e3-41ac-89c0-269eda283436",
   "metadata": {},
   "outputs": [],
   "source": [
    "#Encryption Function\n",
    "def encryption(plaintext, key_stream):\n",
    "    text = plaintext.lower()\n",
    "    key_size = len(key_stream)\n",
    "    ciphertext = \"\"\n",
    "    j = 0\n",
    "    for char in text:\n",
    "        unicode = ord(char)\n",
    "        if unicode>=97 and unicode<=122:\n",
    "            #Storing the key for current plaintext character\n",
    "            key = key_stream[j]\n",
    "            if j==(key_size-1): \n",
    "                j = 0\n",
    "            else: \n",
    "                j = j+1\n",
    "            #Calculating the ciphertext charater\n",
    "            value = unicode - 97\n",
    "            valueAfterShifting = (value + key) % 26\n",
    "            unicode = valueAfterShifting + 97\n",
    "            new_char = chr(unicode)\n",
    "            ciphertext = ciphertext + new_char\n",
    "            ciphertext=ciphertext.upper()\n",
    "        else:\n",
    "            ciphertext = ciphertext + char\n",
    "    return ciphertext"
   ]
  },
  {
   "cell_type": "code",
   "execution_count": 41,
   "id": "68dd1cef-2e29-4412-97d0-c3bc3b467bc8",
   "metadata": {},
   "outputs": [],
   "source": [
    "#Decryption Function\n",
    "def decryption(ciphertext, key_stream):\n",
    "    text = ciphertext\n",
    "    key_size = len(key_stream)\n",
    "    plaintext = \"\"\n",
    "    j = 0\n",
    "    for char in text:\n",
    "        unicode = ord(char)\n",
    "        if unicode>=65 and unicode<=90:\n",
    "            #Storing the key for current ciphertext character\n",
    "            key = key_stream[j]\n",
    "            if j==(key_size-1): \n",
    "                j = 0\n",
    "            else: \n",
    "                j = j+1\n",
    "            #Calculating the plaintext charater\n",
    "            value = unicode - 65\n",
    "            valueAfterShifting = (value - key) % 26\n",
    "            unicode = valueAfterShifting + 65+32\n",
    "            new_char = chr(unicode)\n",
    "            plaintext = plaintext + new_char\n",
    "        else:\n",
    "            plaintext = plaintext + char\n",
    "    return plaintext"
   ]
  },
  {
   "cell_type": "code",
   "execution_count": 42,
   "id": "f3b48cbb-829d-42eb-b708-7f3e6cd15839",
   "metadata": {},
   "outputs": [
    {
     "name": "stdin",
     "output_type": "stream",
     "text": [
      "Enter the plaintext:  csejnu\n",
      "Enter the key:  cse\n"
     ]
    },
    {
     "name": "stdout",
     "output_type": "stream",
     "text": [
      "Given Plaintext:  csejnu\n",
      "Entered key:  cse\n",
      "Key Stream :  [2, 18, 4]\n",
      "Ciphertext:  EKILFY\n",
      "Decrypted text:  csejnu\n"
     ]
    }
   ],
   "source": [
    "#Input Section\n",
    "plaintext = input(\"Enter the plaintext: \")\n",
    "key = input(\"Enter the key: \")\n",
    "\n",
    "#Function Calling\n",
    "key_stream = key_generation(key)\n",
    "ciphertext = encryption(plaintext, key_stream)\n",
    "decrypted_text = decryption(ciphertext, key_stream)\n",
    "\n",
    "#Output Section\n",
    "print(\"Given Plaintext: \", plaintext)\n",
    "print(\"Entered key: \", key)\n",
    "print(\"Key Stream : \", key_stream)\n",
    "print(\"Ciphertext: \", ciphertext)\n",
    "print(\"Decrypted text: \", decrypted_text)"
   ]
  },
  {
   "cell_type": "markdown",
   "id": "f71b93e2-17d3-4970-92d2-9c3c0617dbae",
   "metadata": {},
   "source": [
    "# 3.Multiplicative Cipher"
   ]
  },
  {
   "cell_type": "markdown",
   "id": "79bcf083-0e1f-4ce6-9b66-b540ae660c46",
   "metadata": {},
   "source": [
    "**C = (P * K) Mod 26\n",
    "Here,\n",
    "C = Cipher text,\n",
    "P = Plain text,\n",
    "K = Key,\n",
    "Mod = Modulus**\n"
   ]
  },
  {
   "cell_type": "markdown",
   "id": "71482c46-33bd-4570-bb48-a9e08a07e770",
   "metadata": {},
   "source": [
    "**Decryption= (C * Multiplication inverse of the key) Mod 26.\n",
    "Here,\n",
    "c = ciphertext,\n",
    "Mod = Modulo**"
   ]
  },
  {
   "cell_type": "code",
   "execution_count": 59,
   "id": "ecd85e56-97c9-4df5-a1d8-9ba9f8449ea3",
   "metadata": {},
   "outputs": [],
   "source": [
    "#Encryption Function\n",
    "def encryption(plaintext, key):\n",
    "    text = plaintext.lower()\n",
    "    \n",
    "    ciphertext = \"\"\n",
    "    for char in text:\n",
    "        unicode = ord(char)\n",
    "        #Range of lowercase letter is 97 to 122\n",
    "        if unicode>= 97 and unicode<=122:\n",
    "            value = unicode - 97\n",
    "            valueAfterOperation = (value * key) % 26\n",
    "            unicode = valueAfterOperation + 97\n",
    "            new_char = chr(unicode)\n",
    "            ciphertext = ciphertext + new_char\n",
    "            ciphertext=ciphertext.upper()\n",
    "        else:\n",
    "            ciphertext = ciphertext + char\n",
    "    return ciphertext"
   ]
  },
  {
   "cell_type": "code",
   "execution_count": 60,
   "id": "bf1648c1-b21b-4690-b2e7-5d5dad4e7d17",
   "metadata": {},
   "outputs": [],
   "source": [
    "#Decryption Function\n",
    "def decryption(ciphertext, key):\n",
    "    text = ciphertext\n",
    "    #finding multiplicative inverse of the key\n",
    "    key_inv = pow(key, -1, 26)\n",
    "    plaintext = \"\"\n",
    "    for char in text:\n",
    "        unicode = ord(char)\n",
    "        #Range of uppercase letter is 65 to 90\n",
    "        if  unicode>= 65 and  unicode<=90:\n",
    "            value =  unicode - 65\n",
    "            valueAfterOperation = (value * key_inv) % 26\n",
    "            unicode = valueAfterOperation + 65+32\n",
    "            new_char = chr(unicode)\n",
    "            plaintext = plaintext + new_char\n",
    "        else:\n",
    "            plaintext = plaintext + char\n",
    "    return plaintext"
   ]
  },
  {
   "cell_type": "code",
   "execution_count": 61,
   "id": "6df898e4-d331-4c16-9be8-49dbe62999dd",
   "metadata": {},
   "outputs": [
    {
     "name": "stdin",
     "output_type": "stream",
     "text": [
      "Enter the plaintext:  csejnu\n",
      "Enter the key:  3\n"
     ]
    },
    {
     "name": "stdout",
     "output_type": "stream",
     "text": [
      "Entered plaintext :  csejnu\n",
      "Entered key :  3\n",
      "Cipher text:  GCMBNI\n",
      "Decrypted plaintext:  csejnu\n"
     ]
    }
   ],
   "source": [
    "#Input Section\n",
    "plaintext = input(\"Enter the plaintext: \")\n",
    "key = int(input(\"Enter the key: \"))\n",
    "\n",
    "#Function Calling\n",
    "ciphertext = encryption(plaintext, key)\n",
    "decrypted_text = decryption(ciphertext, key)\n",
    "\n",
    "#Output Section\n",
    "print(\"Entered plaintext : \", plaintext)\n",
    "print(\"Entered key : \",key)\n",
    "print(\"Cipher text: \", ciphertext)\n",
    "print(\"Decrypted plaintext: \", decrypted_text)"
   ]
  },
  {
   "cell_type": "markdown",
   "id": "d6338225-285f-4edc-82c5-2b3ffce64158",
   "metadata": {},
   "source": [
    "# 4.Affine Cipher"
   ]
  },
  {
   "cell_type": "markdown",
   "id": "a41aed89-6266-46f5-a9ab-8c3d969754ce",
   "metadata": {},
   "source": [
    "**Encryption of Affine Cipher:**"
   ]
  },
  {
   "cell_type": "markdown",
   "id": "156f5e87-f96f-4153-b0ad-e0849674f3a1",
   "metadata": {},
   "source": [
    "E(x) = (Ax + B) mod M"
   ]
  },
  {
   "cell_type": "markdown",
   "id": "536df486-df1d-4ef3-bdb4-da3df9f77ac1",
   "metadata": {},
   "source": [
    "**Decryption of Affine Cipher:**"
   ]
  },
  {
   "cell_type": "markdown",
   "id": "7aee1b52-8817-408d-a5ad-f06644a67b63",
   "metadata": {},
   "source": [
    "D(x)= C(x − B) mod M"
   ]
  },
  {
   "cell_type": "code",
   "execution_count": 69,
   "id": "c2796b68-34b9-4364-a06c-58465ae627c9",
   "metadata": {},
   "outputs": [],
   "source": [
    "#Encryption Function\n",
    "def encryption(plaintext, key1, key2):\n",
    "    text = plaintext.lower()\n",
    "    ciphertext = \"\"\n",
    "    for char in text:\n",
    "        unicode = ord(char)\n",
    "        #Range for lowercase letter is 97 to 122\n",
    "        if unicode>=97 and unicode<=122:\n",
    "            value = unicode - 97\n",
    "            valueAfterOperation = ((value * key1) + key2) % 26\n",
    "            unicode = valueAfterOperation + 97\n",
    "            new_char = chr(unicode)\n",
    "            ciphertext = ciphertext + new_char\n",
    "            ciphertext=ciphertext.upper()\n",
    "        else :\n",
    "            ciphertext = ciphertext + char\n",
    "    return ciphertext\n"
   ]
  },
  {
   "cell_type": "code",
   "execution_count": 70,
   "id": "4e1cee4e-747a-496c-a779-41f0bc87ed49",
   "metadata": {},
   "outputs": [],
   "source": [
    "#Decrption Function\n",
    "def decryption(ciphertext, key1, key2):\n",
    "    text = ciphertext\n",
    "    #finding the inverse of key1 mod 26\n",
    "    key1_inv = pow(key1, -1, 26)\n",
    "    plaintext = \"\"\n",
    "    for char in text:\n",
    "        unicode = ord(char)\n",
    "        #Range for uppercase letter is 65 to 90\n",
    "        if unicode>=65 and unicode<=90:\n",
    "            value = unicode - 65\n",
    "            valueAfterOperation = ((value - key2) * key1_inv) % 26\n",
    "            unicode = valueAfterOperation + 65+32\n",
    "            new_char = chr(unicode)\n",
    "            plaintext = plaintext + new_char\n",
    "        else:\n",
    "            plaintext = plaintext + char\n",
    "    return plaintext"
   ]
  },
  {
   "cell_type": "code",
   "execution_count": 73,
   "id": "7fefb167-1b81-47a9-94f9-8f33a73102f5",
   "metadata": {},
   "outputs": [
    {
     "name": "stdin",
     "output_type": "stream",
     "text": [
      "Enter the plaintext:  csejnu\n",
      "Enter the first key:  3\n",
      "Enter the second key :  5\n"
     ]
    },
    {
     "name": "stdout",
     "output_type": "stream",
     "text": [
      "Entered plaintext:  csejnu\n",
      "Entered keys are: \n",
      "key1 =  3 \n",
      "key2 =  5\n",
      "Ciphertext :  LHRGSN\n",
      "Decrypted text :  csejnu\n"
     ]
    }
   ],
   "source": [
    "#Input section\n",
    "plaintext = input(\"Enter the plaintext: \")\n",
    "key1 = int(input(\"Enter the first key: \"))\n",
    "key2 = int(input(\"Enter the second key : \"))\n",
    "\n",
    "#Function calling\n",
    "ciphertext = encryption(plaintext, key1, key2)\n",
    "decrypted_text = decryption(ciphertext, key1, key2)\n",
    "\n",
    "#Output Section\n",
    "print(\"Entered plaintext: \", plaintext)\n",
    "print(\"Entered keys are: \\nkey1 = \", key1, \"\\nkey2 = \", key2)\n",
    "print(\"Ciphertext : \", ciphertext)\n",
    "print(\"Decrypted text : \", decrypted_text)"
   ]
  },
  {
   "cell_type": "markdown",
   "id": "a10a0165-69fd-4492-8cc2-5b3677f27f32",
   "metadata": {},
   "source": [
    "# 5.DES Cipher"
   ]
  },
  {
   "cell_type": "code",
   "execution_count": 76,
   "id": "0c7b35ed-3d1c-4c9f-8cec-9063d319e392",
   "metadata": {},
   "outputs": [],
   "source": [
    "#pip install pycryptodome"
   ]
  },
  {
   "cell_type": "code",
   "execution_count": 81,
   "id": "6970112d-4358-4093-81ba-83046478ea73",
   "metadata": {},
   "outputs": [
    {
     "name": "stdin",
     "output_type": "stream",
     "text": [
      "Enter the plaintext:  This is a secret message\n"
     ]
    },
    {
     "name": "stdout",
     "output_type": "stream",
     "text": [
      "Ciphertext:  b'Mnh6wHNlchjzO588g2HEAXEd7s7rCyPN'\n",
      "Decrypted text :  This is a secret message\n"
     ]
    }
   ],
   "source": [
    "import base64\n",
    "from Crypto.Cipher import DES \n",
    "from Crypto.Random import get_random_bytes\n",
    "\n",
    "#Input plaintext\n",
    "plaintext = input(\"Enter the plaintext: \")\n",
    "#Padding the plaintext\n",
    "while len(plaintext) % 8 != 0:\n",
    "    plaintext = plaintext + \" \"\n",
    "#Create a random key\n",
    "key = get_random_bytes(8)\n",
    "\n",
    "#Create model of the cipher\n",
    "des = DES.new(key, DES.MODE_ECB)\n",
    "\n",
    "#Encryption Part\n",
    "ciphertext = des.encrypt(plaintext.encode('utf-8'))\n",
    "print(\"Ciphertext: \", base64.b64encode(ciphertext))\n",
    "#Decryptiom Part\n",
    "decryptedtext = des.decrypt(ciphertext)\n",
    "print(\"Decrypted text : \", decryptedtext.decode())\n"
   ]
  },
  {
   "cell_type": "markdown",
   "id": "b7c2da9f-d16f-4c9a-bf36-6833d5106ca5",
   "metadata": {},
   "source": [
    "# 6.AES Cipher"
   ]
  },
  {
   "cell_type": "code",
   "execution_count": 86,
   "id": "e074b689-1495-4f2c-8af1-b4b37add1a17",
   "metadata": {},
   "outputs": [
    {
     "name": "stdout",
     "output_type": "stream",
     "text": [
      "Ciphertext :  b'SxLccaupW8yBZcOS5slJ8lDrqY6H3nTD'\n",
      "Tag :  b'e\\xd4<\\xfc\\xd7\\xd2\\xaf\\xc6\\xbf\\x1cl\\xb7\\x17\\xe17U'\n",
      "Decrypted text:  This is a secret message\n"
     ]
    }
   ],
   "source": [
    "import base64\n",
    "from Crypto.Cipher import AES \n",
    "from Crypto.Random import get_random_bytes\n",
    "\n",
    "plaintext = b\"This is a secret message\"\n",
    "key = get_random_bytes(16)\n",
    "\n",
    "cipher = AES.new(key, AES.MODE_EAX)\n",
    "ciphertext, tag = cipher.encrypt_and_digest(plaintext)\n",
    "print(\"Ciphertext : \", base64.b64encode(ciphertext))\n",
    "print(\"Tag : \", tag)\n",
    "\n",
    "decrypt_cipher = AES.new(key, AES.MODE_EAX, nonce=cipher.nonce)\n",
    "decrypted_text =decrypt_cipher.decrypt_and_verify(ciphertext, tag)\n",
    "print(\"Decrypted text: \", decrypted_text.decode())"
   ]
  },
  {
   "cell_type": "markdown",
   "id": "cccd4d51-6020-4521-8e7a-db6653cee31b",
   "metadata": {},
   "source": [
    "# 7.RSA"
   ]
  },
  {
   "cell_type": "code",
   "execution_count": 92,
   "id": "dd9ab14e-c473-4eee-8baa-171caa7c54da",
   "metadata": {},
   "outputs": [],
   "source": [
    "\n",
    "from Crypto.PublicKey import RSA\n",
    "from Crypto.Cipher import PKCS1_OAEP"
   ]
  },
  {
   "cell_type": "code",
   "execution_count": 93,
   "id": "5766ce96-d2dd-4f01-bfad-539279caaa7b",
   "metadata": {},
   "outputs": [],
   "source": [
    "#Function for generating public and private key\n",
    "def generate_key_pair():\n",
    "    key = RSA.generate(2048)\n",
    "    public_key = key.publickey().export_key()\n",
    "    private_key = key.export_key()\n",
    "    return public_key, private_key"
   ]
  },
  {
   "cell_type": "code",
   "execution_count": 94,
   "id": "eef26949-4dff-4d60-8113-f04d50e4ed4f",
   "metadata": {},
   "outputs": [],
   "source": [
    "#Encryption Function\n",
    "def encrypt(message, public_key):\n",
    "    cipher = PKCS1_OAEP.new(RSA.import_key(public_key))\n",
    "    encrypted_message = cipher.encrypt(message)\n",
    "    return encrypted_message"
   ]
  },
  {
   "cell_type": "code",
   "execution_count": 95,
   "id": "79c8b195-4d6f-4971-95ff-a02dbe9ca5d3",
   "metadata": {},
   "outputs": [],
   "source": [
    "#Decryption Function\n",
    "def decrypt(encrypted_message, private_key):\n",
    "    cipher = PKCS1_OAEP.new(RSA.import_key(private_key))\n",
    "    decrypted_message = cipher.decrypt(encrypted_message)\n",
    "    return decrypted_message"
   ]
  },
  {
   "cell_type": "code",
   "execution_count": 96,
   "id": "8fcd3122-4b2e-4478-8221-4bbf3b5df200",
   "metadata": {},
   "outputs": [
    {
     "name": "stdout",
     "output_type": "stream",
     "text": [
      "Plaintext: b'This is a secret message from TAJ'\n",
      "----output----\n",
      "Encrypted message: 389031ffec25e0b9e50edaf31b60aa9f3a1eb2e517674e2e5a950d17090ac747f907331ca050f197cef2e407515138efcb50b556fd94c25d331070ecc63f5648a068f8af1fd6bdacccb477fe49d633f20d0cb1c5eb5827d40c2d4fc5abd02e8f72fa8db4e09f6db9fefd65d702f10d3f554520c163717115c10022310e629e0a25d3a749edb7f4f3009520267e83f56fb2675becac8c275ae69c8d8fc53a30dec23ff61945d810bce74fc4f5adaaf2819c8ecc17bf951d0533488236d32061ca3bbccaa03753742ec0b8625be6df4cc6bed2fbfd007ddf160678192aab7afc615184e59c1c7196237006d0601571cacdd89dba55b9cd36ed742b01edde59c836\n",
      "Decrypted message: This is a secret message from TAJ\n"
     ]
    }
   ],
   "source": [
    "# Example usage\n",
    "plaintext = b\"This is a secret message from TAJ\"\n",
    "print(\"Plaintext:\", plaintext)\n",
    "print(\"----output----\")\n",
    "# Generate key pair\n",
    "public_key, private_key = generate_key_pair()\n",
    "# Encrypt the message\n",
    "encrypted_message = encrypt(plaintext, public_key)\n",
    "print(\"Encrypted message:\", encrypted_message.hex())\n",
    "# Decrypt the message\n",
    "decrypted_message = decrypt(encrypted_message, private_key)\n",
    "print(\"Decrypted message:\", decrypted_message.decode())"
   ]
  },
  {
   "cell_type": "markdown",
   "id": "4e7f2b8d-66d6-441e-ac5f-1ba1c5312152",
   "metadata": {},
   "source": [
    "# 8.Keyless Transposition Cipher"
   ]
  },
  {
   "cell_type": "code",
   "execution_count": 5,
   "id": "13dc16fc-5ab5-46a4-a80f-09916d394f92",
   "metadata": {},
   "outputs": [
    {
     "name": "stdin",
     "output_type": "stream",
     "text": [
      "Enter the plantext:  farhana akter suci\n",
      "Enter the number of columns:  4\n"
     ]
    },
    {
     "name": "stdout",
     "output_type": "stream",
     "text": [
      "Ciphertext:  FAKSANTURAECHARI\n",
      "farhanaaktersuci\n"
     ]
    }
   ],
   "source": [
    "import numpy as np\n",
    "\n",
    "#Input section\n",
    "plaintext = input(\"Enter the plantext: \")\n",
    "plaintext = plaintext.replace(\" \",\"\")\n",
    "plaintext = plaintext.upper()\n",
    "column = int(input(\"Enter the number of columns: \"))\n",
    "\n",
    "#Add extra characters if necessary\n",
    "if (len(plaintext) % column) != 0:\n",
    "    extra = column - (len(plaintext) % column)\n",
    "    for i in range(extra):\n",
    "        plaintext = plaintext + \"X\"\n",
    "\n",
    "#Encryption Section\n",
    "row = len(plaintext)//column\n",
    "table = np.array([[\"Z\"]*column]*row)\n",
    "#array_2d = np.zeros((3, 4))\n",
    "index = 0\n",
    "for i in range(row):\n",
    "    for j in range(column):\n",
    "        table[i][j] = plaintext[index]\n",
    "        index = index + 1 \n",
    "\n",
    "ciphertext = \"\"\n",
    "transpose_table = np.transpose(table)\n",
    "for i in range(column):\n",
    "    for j in range(row):\n",
    "        ciphertext = ciphertext + transpose_table[i][j]\n",
    "\n",
    "print(\"Ciphertext: \", ciphertext)\n",
    "\n",
    "#Decryption Section\n",
    "cipher_table = np.array([[\"Z\"]*row]*column)\n",
    "index = 0\n",
    "for i in range(column):\n",
    "    for j in range(row):\n",
    "        cipher_table[i][j] = ciphertext[index]\n",
    "        index = index + 1\n",
    "\n",
    "decrypted_text = \"\"\n",
    "transpose_cipher_table = np.transpose(cipher_table)\n",
    "for i in range (row):\n",
    "    for j in range(column):\n",
    "        decrypted_text = decrypted_text + transpose_cipher_table[i][j]\n",
    "decrypted_text=decrypted_text.lower()\n",
    "        \n",
    "print(decrypted_text)"
   ]
  },
  {
   "cell_type": "markdown",
   "id": "1be98007-e5d2-4245-b301-5df1894369d8",
   "metadata": {},
   "source": [
    "# 9.ElGamal Cipher"
   ]
  },
  {
   "cell_type": "markdown",
   "id": "fcadd9a5-500e-44be-8ad8-c6d03b130196",
   "metadata": {},
   "source": [
    "**primitive_root: This function finds a primitive root modulo a prime number.\n",
    "A primitive root g of a prime number p is an integer such that the powers of g generate all the integers from 1 to p-1 when taken modulo p.**"
   ]
  },
  {
   "cell_type": "code",
   "execution_count": 6,
   "id": "4f217b19-88ba-48d1-b00d-6615dbb24f36",
   "metadata": {},
   "outputs": [],
   "source": [
    "# Sympy is a Python library for symbolic mathematics.\n",
    "from sympy import primitive_root,randprime\n",
    "import random"
   ]
  },
  {
   "cell_type": "code",
   "execution_count": 7,
   "id": "20f4ee76-aa29-4375-89f7-c7b1dd234af6",
   "metadata": {},
   "outputs": [],
   "source": [
    "# The number for which we want to find the primitive root\n",
    "prime = randprime(124,10**3)\n",
    "root = primitive_root(prime)"
   ]
  },
  {
   "cell_type": "code",
   "execution_count": 8,
   "id": "74691d61-83eb-4573-9845-f9e6aa239df0",
   "metadata": {},
   "outputs": [],
   "source": [
    "d=random.randint(1,(prime-2)) # It is private key."
   ]
  },
  {
   "cell_type": "code",
   "execution_count": 9,
   "id": "c1eb5e99-d9ca-4efe-a3ae-90c8b5f9666a",
   "metadata": {},
   "outputs": [],
   "source": [
    "e=(pow(root,d)%prime)  # It is public key.\n",
    "r=random.randint(1,10)  # Select a random integer."
   ]
  },
  {
   "cell_type": "code",
   "execution_count": 10,
   "id": "95640bee-1cdd-434e-b815-4e53d5ff02b3",
   "metadata": {},
   "outputs": [],
   "source": [
    "#Define the plaintext.\n",
    "plaintext = \"This is a secret message\""
   ]
  },
  {
   "cell_type": "code",
   "execution_count": 11,
   "id": "5f9e68d1-3734-4658-874e-9a0e88ff0723",
   "metadata": {},
   "outputs": [
    {
     "name": "stdout",
     "output_type": "stream",
     "text": [
      "[(337, 85), (337, 322), (337, 533), (337, 367), (337, 493), (337, 533), (337, 367), (337, 493), (337, 552), (337, 493), (337, 367), (337, 258), (337, 405), (337, 156), (337, 258), (337, 9), (337, 493), (337, 239), (337, 258), (337, 367), (337, 367), (337, 552), (337, 111), (337, 258)]\n"
     ]
    }
   ],
   "source": [
    "# Encryption Algorithm.\n",
    "ciphertext=[]\n",
    "for char in plaintext:\n",
    "  ciphertext1=(pow(root,r)%prime)\n",
    "  ciphertext2=((ord(char)*pow(e,r))%prime)\n",
    "  ciphertext.append((ciphertext1,ciphertext2))\n",
    "print(ciphertext)"
   ]
  },
  {
   "cell_type": "code",
   "execution_count": 12,
   "id": "caf9bfa5-dfea-442f-a641-0fa5051f4d99",
   "metadata": {},
   "outputs": [
    {
     "name": "stdout",
     "output_type": "stream",
     "text": [
      "This is a secret message\n"
     ]
    }
   ],
   "source": [
    "#Decryption Algorithm\n",
    "plaintext=\"\"\n",
    "for pair in ciphertext:\n",
    "  ciphertext1,ciphertext2=pair\n",
    "  value=pow(ciphertext1,d)\n",
    "  multinv = pow(value,-1,prime)\n",
    "  decrypt_char = (ciphertext2*multinv) % prime\n",
    "  plaintext += chr(decrypt_char)\n",
    "print(plaintext)"
   ]
  },
  {
   "cell_type": "markdown",
   "id": "493ada43-b492-43ca-9aa6-276d4bd9bc4e",
   "metadata": {},
   "source": [
    "# 10.Hill Cipher"
   ]
  },
  {
   "cell_type": "code",
   "execution_count": 13,
   "id": "188995b3-b219-4a35-9f83-028829cb8bc4",
   "metadata": {},
   "outputs": [],
   "source": [
    "import numpy as np\n",
    "#Define the key matrix\n",
    "key_matrix = np.array(\n",
    "    [\n",
    "        [9, 7, 11, 13],\n",
    "        [4, 7, 5, 6],\n",
    "        [2, 21, 14, 9],\n",
    "        [3, 23, 21, 8]\n",
    "    ]\n",
    ")\n",
    "#Finding inverse of the key matrix\n",
    "det = int(np.round(np.linalg.det(key_matrix)))\n",
    "det_inv = pow(det, -1, 26)\n",
    "inv_key_matrix = det_inv * (np.round(det*np.linalg.inv(key_matrix)).astype(int)) %26"
   ]
  },
  {
   "cell_type": "code",
   "execution_count": 16,
   "id": "563eb2e4-9766-4764-87cd-1229d5b98f36",
   "metadata": {},
   "outputs": [
    {
     "name": "stdin",
     "output_type": "stream",
     "text": [
      "Enter the plaintext:  csejnu\n"
     ]
    },
    {
     "name": "stdout",
     "output_type": "stream",
     "text": [
      "CSEJNUXX\n",
      "Plaintext array of numerical values: \n",
      " [[ 2 18  4  9]\n",
      " [13 20 23 23]]\n"
     ]
    }
   ],
   "source": [
    "#Input section\n",
    "plaintext = input(\"Enter the plaintext: \")\n",
    "text = plaintext.replace(\" \",\"\")\n",
    "text_len = len(text)\n",
    "key_len = len(key_matrix)\n",
    "text = text.upper()\n",
    "\n",
    "#Add extra character if required\n",
    "if (text_len % key_len) !=0:\n",
    "    extra = key_len - (text_len % key_len)\n",
    "    for i in range (extra):\n",
    "        text = text + \"X\"\n",
    "print(text)\n",
    "\n",
    "#Create plaintext array\n",
    "text_len = len(text)\n",
    "text_array = np.zeros(text_len, dtype=int)\n",
    "\n",
    "i = 0\n",
    "for char in text:\n",
    "    value = ord(char) - 65\n",
    "    text_array[i] = value\n",
    "    i = i + 1\n",
    "    \n",
    "column = len(key_matrix)\n",
    "row =  len(text_array)//column\n",
    "#Reshaping the array\n",
    "text_array = text_array.reshape(row, column)\n",
    "print(\"Plaintext array of numerical values: \\n\",text_array)"
   ]
  },
  {
   "cell_type": "code",
   "execution_count": 17,
   "id": "6aab75b4-edac-45c7-97c3-74eb1029c183",
   "metadata": {},
   "outputs": [
    {
     "name": "stdout",
     "output_type": "stream",
     "text": [
      "Ciphertext:  vptiavie\n",
      "Decrypted plaintext:  csejnuxx\n"
     ]
    }
   ],
   "source": [
    "#Encryption Section\n",
    "cipher_array = np.dot(text_array, key_matrix)%26\n",
    "ciphertext = \"\"\n",
    "for i in range(row):\n",
    "    for j in range(column):\n",
    "        char = chr(cipher_array[i][j]+97)\n",
    "        ciphertext = ciphertext + char\n",
    "print(\"Ciphertext: \",ciphertext)\n",
    "\n",
    "#Decryption Section\n",
    "decrypted_array = np.dot(cipher_array, inv_key_matrix)%26\n",
    "decrypted_text = \"\"\n",
    "for i in range(row):\n",
    "    for j in range(column):\n",
    "        char = chr(decrypted_array[i][j]+97)\n",
    "        decrypted_text = decrypted_text + char\n",
    "print(\"Decrypted plaintext: \",decrypted_text)"
   ]
  },
  {
   "cell_type": "code",
   "execution_count": null,
   "id": "4aba83d2-5927-46da-a03b-e8db2366ed88",
   "metadata": {},
   "outputs": [],
   "source": []
  }
 ],
 "metadata": {
  "kernelspec": {
   "display_name": "Python 3 (ipykernel)",
   "language": "python",
   "name": "python3"
  },
  "language_info": {
   "codemirror_mode": {
    "name": "ipython",
    "version": 3
   },
   "file_extension": ".py",
   "mimetype": "text/x-python",
   "name": "python",
   "nbconvert_exporter": "python",
   "pygments_lexer": "ipython3",
   "version": "3.12.3"
  }
 },
 "nbformat": 4,
 "nbformat_minor": 5
}
