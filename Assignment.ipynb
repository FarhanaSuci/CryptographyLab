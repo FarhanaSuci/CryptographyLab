{
 "cells": [
  {
   "cell_type": "markdown",
   "id": "db0c5f75-a1e6-4dfd-9215-2cb5fb4a6df5",
   "metadata": {},
   "source": [
    "# 1.Caesar Cipher or Additive Cipher or Shift Cipher\n"
   ]
  },
  {
   "cell_type": "markdown",
   "id": "07e3599e-2fb8-430c-a533-3c74f211a6dc",
   "metadata": {},
   "source": [
    "**The encryption formula is En(x) = (x + n) mod 26 and the Decryption formula is Dn(x) = (x – n) mod 26.**"
   ]
  },
  {
   "cell_type": "code",
   "execution_count": 17,
   "id": "a90c530c-da61-42c7-9663-0d79549fe099",
   "metadata": {},
   "outputs": [],
   "source": [
    "#Encryption Function\n",
    "def encryption(plaintext, key):\n",
    "    text = plaintext.lower()\n",
    "    #Range of lowercase letter is 97 to 122\n",
    "    ciphertext = \"\"\n",
    "    for char in text:\n",
    "        uniCode = ord(char)\n",
    "        if uniCode >= 97 and uniCode <= 122:\n",
    "            value = uniCode - 97\n",
    "            valueAfterShifting = (value + key) % 26\n",
    "            uniCode = valueAfterShifting + 97\n",
    "            new_char = chr(uniCode).upper()\n",
    "            ciphertext = ciphertext + new_char\n",
    "        else:\n",
    "            ciphertext = ciphertext + char\n",
    "    return ciphertext"
   ]
  },
  {
   "cell_type": "code",
   "execution_count": 18,
   "id": "b87a4198-f176-4bb6-8996-f4c2e086e0a0",
   "metadata": {},
   "outputs": [],
   "source": [
    "#Decryption Function\n",
    "def decryption(ciphertext, key):\n",
    "    text = ciphertext\n",
    "    #Range of uppercase letter is 65 to 90\n",
    "    plaintext = \"\"\n",
    "    for char in text:\n",
    "        uniCode = ord(char)\n",
    "        if uniCode >= 65 and uniCode <= 90:\n",
    "            value = uniCode - 65\n",
    "            valueAfterShifting = (value - key) % 26\n",
    "            uniCode = valueAfterShifting + 65+32\n",
    "            new_char = chr(uniCode)\n",
    "            plaintext = plaintext + new_char\n",
    "        else:\n",
    "            plaintext = plaintext + char\n",
    "    return plaintext"
   ]
  },
  {
   "cell_type": "code",
   "execution_count": 19,
   "id": "720bfb2f-5bd1-49e1-a642-bdd25d301db1",
   "metadata": {},
   "outputs": [
    {
     "name": "stdin",
     "output_type": "stream",
     "text": [
      "Enter the plaintext:  jnucse\n",
      "Enter the key:  5\n"
     ]
    },
    {
     "name": "stdout",
     "output_type": "stream",
     "text": [
      "Given plaintext:  jnucse\n",
      "Entered key :  5\n",
      "Ciphertext:  OSZHXJ\n",
      "Decrypted plaintext:  jnucse\n"
     ]
    }
   ],
   "source": [
    "#Input Section\n",
    "plaintext = input(\"Enter the plaintext: \")\n",
    "key = int(input(\"Enter the key: \"))\n",
    "\n",
    "#Function Calling\n",
    "ciphertext = encryption(plaintext, key)\n",
    "decrypted_text = decryption(ciphertext, key)\n",
    "\n",
    "#Output Section\n",
    "print(\"Given plaintext: \", plaintext)\n",
    "print(\"Entered key : \", key)\n",
    "print(\"Ciphertext: \", ciphertext)\n",
    "print(\"Decrypted plaintext: \", decrypted_text)"
   ]
  },
  {
   "cell_type": "code",
   "execution_count": null,
   "id": "5399ef7b-7aaa-4a79-9809-52e87a7a60a3",
   "metadata": {},
   "outputs": [],
   "source": []
  }
 ],
 "metadata": {
  "kernelspec": {
   "display_name": "Python 3 (ipykernel)",
   "language": "python",
   "name": "python3"
  },
  "language_info": {
   "codemirror_mode": {
    "name": "ipython",
    "version": 3
   },
   "file_extension": ".py",
   "mimetype": "text/x-python",
   "name": "python",
   "nbconvert_exporter": "python",
   "pygments_lexer": "ipython3",
   "version": "3.12.3"
  }
 },
 "nbformat": 4,
 "nbformat_minor": 5
}
