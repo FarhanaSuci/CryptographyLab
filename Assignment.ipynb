{
 "cells": [
  {
   "cell_type": "markdown",
   "id": "db0c5f75-a1e6-4dfd-9215-2cb5fb4a6df5",
   "metadata": {},
   "source": [
    "# 1.Caesar Cipher or Additive Cipher or Shift Cipher\n"
   ]
  },
  {
   "cell_type": "markdown",
   "id": "07e3599e-2fb8-430c-a533-3c74f211a6dc",
   "metadata": {},
   "source": [
    "**The encryption formula is En(x) = (x + n) mod 26 and the Decryption formula is Dn(x) = (x – n) mod 26.**"
   ]
  },
  {
   "cell_type": "code",
   "execution_count": 12,
   "id": "a90c530c-da61-42c7-9663-0d79549fe099",
   "metadata": {},
   "outputs": [],
   "source": [
    "#Encryption Function\n",
    "def encryption(plaintext, key):\n",
    "    text = plaintext.lower()\n",
    "    #Range of lowercase letter is 97 to 122\n",
    "    ciphertext = \"\"\n",
    "    for char in text:\n",
    "        uniCode = ord(char)\n",
    "        if uniCode >= 97 and uniCode <= 122:\n",
    "            value = uniCode - 97\n",
    "            valueAfterShifting = (value + key) % 26\n",
    "            uniCode = valueAfterShifting + 97\n",
    "            new_char = chr(uniCode).upper()\n",
    "            ciphertext = ciphertext + new_char\n",
    "        else:\n",
    "            ciphertext = ciphertext + char\n",
    "    return ciphertext"
   ]
  },
  {
   "cell_type": "code",
   "execution_count": 13,
   "id": "b87a4198-f176-4bb6-8996-f4c2e086e0a0",
   "metadata": {},
   "outputs": [],
   "source": [
    "#Decryption Function\n",
    "def decryption(ciphertext, key):\n",
    "    text = ciphertext\n",
    "    #Range of uppercase letter is 65 to 90\n",
    "    plaintext = \"\"\n",
    "    for char in text:\n",
    "        uniCode = ord(char)\n",
    "        if uniCode >= 65 and uniCode <= 90:\n",
    "            value = uniCode - 65\n",
    "            valueAfterShifting = (value - key) % 26\n",
    "            uniCode = valueAfterShifting + 65+32\n",
    "            new_char = chr(uniCode)\n",
    "            plaintext = plaintext + new_char\n",
    "        else:\n",
    "            plaintext = plaintext + char\n",
    "    return plaintext"
   ]
  },
  {
   "cell_type": "code",
   "execution_count": 14,
   "id": "720bfb2f-5bd1-49e1-a642-bdd25d301db1",
   "metadata": {},
   "outputs": [
    {
     "name": "stdin",
     "output_type": "stream",
     "text": [
      "Enter the plaintext:  csejnu\n",
      "Enter the key:  5\n"
     ]
    },
    {
     "name": "stdout",
     "output_type": "stream",
     "text": [
      "Given plaintext:  csejnu\n",
      "Entered key :  5\n",
      "Ciphertext:  HXJOSZ\n",
      "Decrypted plaintext:  csejnu\n"
     ]
    }
   ],
   "source": [
    "#Input Section\n",
    "plaintext = input(\"Enter the plaintext: \")\n",
    "key = int(input(\"Enter the key: \"))\n",
    "\n",
    "#Function Calling\n",
    "ciphertext = encryption(plaintext, key)\n",
    "decrypted_text = decryption(ciphertext, key)\n",
    "\n",
    "#Output Section\n",
    "print(\"Given plaintext: \", plaintext)\n",
    "print(\"Entered key : \", key)\n",
    "print(\"Ciphertext: \", ciphertext)\n",
    "print(\"Decrypted plaintext: \", decrypted_text)"
   ]
  },
  {
   "cell_type": "markdown",
   "id": "eeb98ea7-accd-4a47-b04e-929be9f85423",
   "metadata": {},
   "source": [
    "# 2.Vigenere Cipher"
   ]
  },
  {
   "cell_type": "markdown",
   "id": "d9932572-cf43-4106-8622-158518af3381",
   "metadata": {},
   "source": [
    "**The main difference between the Caesar cipher and the Vigenere cipher is the way they handle the shift. In the Caesar cipher, the shift is fixed and applies to every letter in the plaintext. In the Vigenere cipher, the shift varies for each letter, depending on the corresponding letter in the keyword. This makes the Vigenere cipher more secure than the Caesar cipher.**"
   ]
  },
  {
   "cell_type": "code",
   "execution_count": 15,
   "id": "1504c008-a1ca-4cef-b70b-42cf5850c482",
   "metadata": {},
   "outputs": [],
   "source": [
    "#Key Generation\n",
    "def key_generation(key):\n",
    "    key_len = len(key)\n",
    "    key_stream = [0]*key_len\n",
    "    key = key.lower()\n",
    "    for i in range(key_len):\n",
    "        uniCode=ord(key[i])\n",
    "        value = uniCode - 97\n",
    "        key_stream[i] = value\n",
    "    return key_stream\n"
   ]
  },
  {
   "cell_type": "code",
   "execution_count": 16,
   "id": "5f3b00b6-14e3-41ac-89c0-269eda283436",
   "metadata": {},
   "outputs": [],
   "source": [
    "#Encryption Function\n",
    "def encryption(plaintext, key_stream):\n",
    "    text = plaintext.lower()\n",
    "    key_size = len(key_stream)\n",
    "    ciphertext = \"\"\n",
    "    j = 0\n",
    "    for char in text:\n",
    "        unicode = ord(char)\n",
    "        if unicode>=97 and unicode<=122:\n",
    "            #Storing the key for current plaintext character\n",
    "            key = key_stream[j]\n",
    "            if j==(key_size-1): \n",
    "                j = 0\n",
    "            else: \n",
    "                j = j+1\n",
    "            #Calculating the ciphertext charater\n",
    "            value = unicode - 97\n",
    "            valueAfterShifting = (value + key) % 26\n",
    "            unicode = valueAfterShifting + 97\n",
    "            new_char = chr(unicode)\n",
    "            ciphertext = ciphertext + new_char\n",
    "            ciphertext=ciphertext.upper()\n",
    "        else:\n",
    "            ciphertext = ciphertext + char\n",
    "    return ciphertext"
   ]
  },
  {
   "cell_type": "code",
   "execution_count": 17,
   "id": "68dd1cef-2e29-4412-97d0-c3bc3b467bc8",
   "metadata": {},
   "outputs": [],
   "source": [
    "#Decryption Function\n",
    "def decryption(ciphertext, key_stream):\n",
    "    text = ciphertext\n",
    "    key_size = len(key_stream)\n",
    "    plaintext = \"\"\n",
    "    j = 0\n",
    "    for char in text:\n",
    "        unicode = ord(char)\n",
    "        if unicode>=65 and unicode<=90:\n",
    "            #Storing the key for current ciphertext character\n",
    "            key = key_stream[j]\n",
    "            if j==(key_size-1): \n",
    "                j = 0\n",
    "            else: \n",
    "                j = j+1\n",
    "            #Calculating the plaintext charater\n",
    "            value = unicode - 65\n",
    "            valueAfterShifting = (value - key) % 26\n",
    "            unicode = valueAfterShifting + 65+32\n",
    "            new_char = chr(unicode)\n",
    "            plaintext = plaintext + new_char\n",
    "        else:\n",
    "            plaintext = plaintext + char\n",
    "    return plaintext"
   ]
  },
  {
   "cell_type": "code",
   "execution_count": 18,
   "id": "f3b48cbb-829d-42eb-b708-7f3e6cd15839",
   "metadata": {},
   "outputs": [
    {
     "name": "stdin",
     "output_type": "stream",
     "text": [
      "Enter the plaintext:  csejnu\n",
      "Enter the key:  5\n"
     ]
    },
    {
     "name": "stdout",
     "output_type": "stream",
     "text": [
      "Given Plaintext:  csejnu\n",
      "Entered key:  5\n",
      "Key Stream :  [-44]\n",
      "Ciphertext:  KAMRVC\n",
      "Decrypted text:  csejnu\n"
     ]
    }
   ],
   "source": [
    "#Input Section\n",
    "plaintext = input(\"Enter the plaintext: \")\n",
    "key = input(\"Enter the key: \")\n",
    "\n",
    "#Function Calling\n",
    "key_stream = key_generation(key)\n",
    "ciphertext = encryption(plaintext, key_stream)\n",
    "decrypted_text = decryption(ciphertext, key_stream)\n",
    "\n",
    "#Output Section\n",
    "print(\"Given Plaintext: \", plaintext)\n",
    "print(\"Entered key: \", key)\n",
    "print(\"Key Stream : \", key_stream)\n",
    "print(\"Ciphertext: \", ciphertext)\n",
    "print(\"Decrypted text: \", decrypted_text)"
   ]
  },
  {
   "cell_type": "markdown",
   "id": "f71b93e2-17d3-4970-92d2-9c3c0617dbae",
   "metadata": {},
   "source": [
    "# 3.Multiplicative Cipher"
   ]
  },
  {
   "cell_type": "markdown",
   "id": "79bcf083-0e1f-4ce6-9b66-b540ae660c46",
   "metadata": {},
   "source": [
    "**C = (P * K) Mod 26\n",
    "Here,\n",
    "C = Cipher text,\n",
    "P = Plain text,\n",
    "K = Key,\n",
    "Mod = Modulus**\n"
   ]
  },
  {
   "cell_type": "markdown",
   "id": "71482c46-33bd-4570-bb48-a9e08a07e770",
   "metadata": {},
   "source": [
    "**Decryption= (C * Multiplication inverse of the key) Mod 26.\n",
    "Here,\n",
    "c = ciphertext,\n",
    "Mod = Modulo**"
   ]
  },
  {
   "cell_type": "code",
   "execution_count": 19,
   "id": "ecd85e56-97c9-4df5-a1d8-9ba9f8449ea3",
   "metadata": {},
   "outputs": [],
   "source": [
    "#Encryption Function\n",
    "def encryption(plaintext, key):\n",
    "    text = plaintext.lower()\n",
    "    \n",
    "    ciphertext = \"\"\n",
    "    for char in text:\n",
    "        unicode = ord(char)\n",
    "        #Range of lowercase letter is 97 to 122\n",
    "        if unicode>= 97 and unicode<=122:\n",
    "            value = unicode - 97\n",
    "            valueAfterOperation = (value * key) % 26\n",
    "            unicode = valueAfterOperation + 97\n",
    "            new_char = chr(unicode)\n",
    "            ciphertext = ciphertext + new_char\n",
    "            ciphertext=ciphertext.upper()\n",
    "        else:\n",
    "            ciphertext = ciphertext + char\n",
    "    return ciphertext"
   ]
  },
  {
   "cell_type": "code",
   "execution_count": 20,
   "id": "bf1648c1-b21b-4690-b2e7-5d5dad4e7d17",
   "metadata": {},
   "outputs": [],
   "source": [
    "#Decryption Function\n",
    "def decryption(ciphertext, key):\n",
    "    text = ciphertext\n",
    "    #finding multiplicative inverse of the key\n",
    "    key_inv = pow(key, -1, 26)\n",
    "    plaintext = \"\"\n",
    "    for char in text:\n",
    "        unicode = ord(char)\n",
    "        #Range of uppercase letter is 65 to 90\n",
    "        if  unicode>= 65 and  unicode<=90:\n",
    "            value =  unicode - 65\n",
    "            valueAfterOperation = (value * key_inv) % 26\n",
    "            unicode = valueAfterOperation + 65+32\n",
    "            new_char = chr(unicode)\n",
    "            plaintext = plaintext + new_char\n",
    "        else:\n",
    "            plaintext = plaintext + char\n",
    "    return plaintext"
   ]
  },
  {
   "cell_type": "code",
   "execution_count": 21,
   "id": "6df898e4-d331-4c16-9be8-49dbe62999dd",
   "metadata": {},
   "outputs": [
    {
     "name": "stdin",
     "output_type": "stream",
     "text": [
      "Enter the plaintext:  csejnu\n",
      "Enter the key:  5\n"
     ]
    },
    {
     "name": "stdout",
     "output_type": "stream",
     "text": [
      "Entered plaintext :  csejnu\n",
      "Entered key :  5\n",
      "Cipher text:  KMUTNW\n",
      "Decrypted plaintext:  csejnu\n"
     ]
    }
   ],
   "source": [
    "#Input Section\n",
    "plaintext = input(\"Enter the plaintext: \")\n",
    "key = int(input(\"Enter the key: \"))\n",
    "\n",
    "#Function Calling\n",
    "ciphertext = encryption(plaintext, key)\n",
    "decrypted_text = decryption(ciphertext, key)\n",
    "\n",
    "#Output Section\n",
    "print(\"Entered plaintext : \", plaintext)\n",
    "print(\"Entered key : \",key)\n",
    "print(\"Cipher text: \", ciphertext)\n",
    "print(\"Decrypted plaintext: \", decrypted_text)"
   ]
  },
  {
   "cell_type": "markdown",
   "id": "d6338225-285f-4edc-82c5-2b3ffce64158",
   "metadata": {},
   "source": [
    "# 4.Affine Cipher"
   ]
  },
  {
   "cell_type": "markdown",
   "id": "a41aed89-6266-46f5-a9ab-8c3d969754ce",
   "metadata": {},
   "source": [
    "**Encryption of Affine Cipher:**"
   ]
  },
  {
   "cell_type": "markdown",
   "id": "156f5e87-f96f-4153-b0ad-e0849674f3a1",
   "metadata": {},
   "source": [
    "E(x) = (Ax + B) mod M"
   ]
  },
  {
   "cell_type": "markdown",
   "id": "536df486-df1d-4ef3-bdb4-da3df9f77ac1",
   "metadata": {},
   "source": [
    "**Decryption of Affine Cipher:**"
   ]
  },
  {
   "cell_type": "markdown",
   "id": "7aee1b52-8817-408d-a5ad-f06644a67b63",
   "metadata": {},
   "source": [
    "D(x)= C(x − B) mod M"
   ]
  },
  {
   "cell_type": "code",
   "execution_count": 22,
   "id": "c2796b68-34b9-4364-a06c-58465ae627c9",
   "metadata": {},
   "outputs": [],
   "source": [
    "#Encryption Function\n",
    "def encryption(plaintext, key1, key2):\n",
    "    text = plaintext.lower()\n",
    "    ciphertext = \"\"\n",
    "    for char in text:\n",
    "        unicode = ord(char)\n",
    "        #Range for lowercase letter is 97 to 122\n",
    "        if unicode>=97 and unicode<=122:\n",
    "            value = unicode - 97\n",
    "            valueAfterOperation = ((value * key1) + key2) % 26\n",
    "            unicode = valueAfterOperation + 97\n",
    "            new_char = chr(unicode)\n",
    "            ciphertext = ciphertext + new_char\n",
    "            ciphertext=ciphertext.upper()\n",
    "        else :\n",
    "            ciphertext = ciphertext + char\n",
    "    return ciphertext\n"
   ]
  },
  {
   "cell_type": "code",
   "execution_count": 23,
   "id": "4e1cee4e-747a-496c-a779-41f0bc87ed49",
   "metadata": {},
   "outputs": [],
   "source": [
    "#Decrption Function\n",
    "def decryption(ciphertext, key1, key2):\n",
    "    text = ciphertext\n",
    "    #finding the inverse of key1 mod 26\n",
    "    key1_inv = pow(key1, -1, 26)\n",
    "    plaintext = \"\"\n",
    "    for char in text:\n",
    "        unicode = ord(char)\n",
    "        #Range for uppercase letter is 65 to 90\n",
    "        if unicode>=65 and unicode<=90:\n",
    "            value = unicode - 65\n",
    "            valueAfterOperation = ((value - key2) * key1_inv) % 26\n",
    "            unicode = valueAfterOperation + 65+32\n",
    "            new_char = chr(unicode)\n",
    "            plaintext = plaintext + new_char\n",
    "        else:\n",
    "            plaintext = plaintext + char\n",
    "    return plaintext"
   ]
  },
  {
   "cell_type": "code",
   "execution_count": 24,
   "id": "7fefb167-1b81-47a9-94f9-8f33a73102f5",
   "metadata": {},
   "outputs": [
    {
     "name": "stdin",
     "output_type": "stream",
     "text": [
      "Enter the plaintext:  csejnu\n",
      "Enter the first key:  3\n",
      "Enter the second key :  5\n"
     ]
    },
    {
     "name": "stdout",
     "output_type": "stream",
     "text": [
      "Entered plaintext:  csejnu\n",
      "Entered keys are: \n",
      "key1 =  3 \n",
      "key2 =  5\n",
      "Ciphertext :  LHRGSN\n",
      "Decrypted text :  csejnu\n"
     ]
    }
   ],
   "source": [
    "#Input section\n",
    "plaintext = input(\"Enter the plaintext: \")\n",
    "key1 = int(input(\"Enter the first key: \"))\n",
    "key2 = int(input(\"Enter the second key : \"))\n",
    "\n",
    "#Function calling\n",
    "ciphertext = encryption(plaintext, key1, key2)\n",
    "decrypted_text = decryption(ciphertext, key1, key2)\n",
    "\n",
    "#Output Section\n",
    "print(\"Entered plaintext: \", plaintext)\n",
    "print(\"Entered keys are: \\nkey1 = \", key1, \"\\nkey2 = \", key2)\n",
    "print(\"Ciphertext : \", ciphertext)\n",
    "print(\"Decrypted text : \", decrypted_text)"
   ]
  },
  {
   "cell_type": "markdown",
   "id": "a10a0165-69fd-4492-8cc2-5b3677f27f32",
   "metadata": {},
   "source": [
    "# 5.DES Cipher"
   ]
  },
  {
   "cell_type": "code",
   "execution_count": 25,
   "id": "0c7b35ed-3d1c-4c9f-8cec-9063d319e392",
   "metadata": {},
   "outputs": [],
   "source": [
    "#pip install pycryptodome"
   ]
  },
  {
   "cell_type": "code",
   "execution_count": 26,
   "id": "6970112d-4358-4093-81ba-83046478ea73",
   "metadata": {},
   "outputs": [
    {
     "name": "stdin",
     "output_type": "stream",
     "text": [
      "Enter the plaintext:  csejnu\n"
     ]
    },
    {
     "name": "stdout",
     "output_type": "stream",
     "text": [
      "Ciphertext:  b'rwk0v3TJe7A='\n",
      "Decrypted text :  csejnu  \n"
     ]
    }
   ],
   "source": [
    "import base64\n",
    "from Crypto.Cipher import DES \n",
    "from Crypto.Random import get_random_bytes\n",
    "\n",
    "#Input plaintext\n",
    "plaintext = input(\"Enter the plaintext: \")\n",
    "#Padding the plaintext\n",
    "while len(plaintext) % 8 != 0:\n",
    "    plaintext = plaintext + \" \"\n",
    "#Create a random key\n",
    "key = get_random_bytes(8)\n",
    "\n",
    "#Create model of the cipher\n",
    "des = DES.new(key, DES.MODE_ECB)\n",
    "\n",
    "#Encryption Part\n",
    "ciphertext = des.encrypt(plaintext.encode('utf-8'))\n",
    "print(\"Ciphertext: \", base64.b64encode(ciphertext))\n",
    "#Decryptiom Part\n",
    "decryptedtext = des.decrypt(ciphertext)\n",
    "print(\"Decrypted text : \", decryptedtext.decode())\n"
   ]
  },
  {
   "cell_type": "markdown",
   "id": "b7c2da9f-d16f-4c9a-bf36-6833d5106ca5",
   "metadata": {},
   "source": [
    "# 6.AES Cipher"
   ]
  },
  {
   "cell_type": "code",
   "execution_count": 27,
   "id": "e074b689-1495-4f2c-8af1-b4b37add1a17",
   "metadata": {},
   "outputs": [
    {
     "name": "stdout",
     "output_type": "stream",
     "text": [
      "Ciphertext :  b'c9k7RvvxHoXq2AyigrSDA79F6BYqAiz+'\n",
      "Tag :  b'!v\\xe1C{\\xc1\\xda6\\x99\\x07\\x15.qrYW'\n",
      "Decrypted text:  This is a secret message\n"
     ]
    }
   ],
   "source": [
    "import base64\n",
    "from Crypto.Cipher import AES \n",
    "from Crypto.Random import get_random_bytes\n",
    "\n",
    "plaintext = b\"This is a secret message\"\n",
    "key = get_random_bytes(16)\n",
    "\n",
    "cipher = AES.new(key, AES.MODE_EAX)\n",
    "ciphertext, tag = cipher.encrypt_and_digest(plaintext)\n",
    "print(\"Ciphertext : \", base64.b64encode(ciphertext))\n",
    "print(\"Tag : \", tag)\n",
    "\n",
    "decrypt_cipher = AES.new(key, AES.MODE_EAX, nonce=cipher.nonce)\n",
    "decrypted_text =decrypt_cipher.decrypt_and_verify(ciphertext, tag)\n",
    "print(\"Decrypted text: \", decrypted_text.decode())"
   ]
  },
  {
   "cell_type": "markdown",
   "id": "cccd4d51-6020-4521-8e7a-db6653cee31b",
   "metadata": {},
   "source": [
    "# 7.RSA Cryptosystem (Rivest-Shamir-Adleman)"
   ]
  },
  {
   "cell_type": "code",
   "execution_count": 28,
   "id": "dd9ab14e-c473-4eee-8baa-171caa7c54da",
   "metadata": {},
   "outputs": [],
   "source": [
    "\n",
    "from Crypto.PublicKey import RSA\n",
    "from Crypto.Cipher import PKCS1_OAEP"
   ]
  },
  {
   "cell_type": "code",
   "execution_count": 29,
   "id": "5766ce96-d2dd-4f01-bfad-539279caaa7b",
   "metadata": {},
   "outputs": [],
   "source": [
    "#Function for generating public and private key\n",
    "def generate_key_pair():\n",
    "    key = RSA.generate(2048)\n",
    "    public_key = key.publickey().export_key()\n",
    "    private_key = key.export_key()\n",
    "    return public_key, private_key"
   ]
  },
  {
   "cell_type": "code",
   "execution_count": 30,
   "id": "eef26949-4dff-4d60-8113-f04d50e4ed4f",
   "metadata": {},
   "outputs": [],
   "source": [
    "#Encryption Function\n",
    "def encrypt(message, public_key):\n",
    "    cipher = PKCS1_OAEP.new(RSA.import_key(public_key))\n",
    "    encrypted_message = cipher.encrypt(message)\n",
    "    return encrypted_message"
   ]
  },
  {
   "cell_type": "code",
   "execution_count": 31,
   "id": "79c8b195-4d6f-4971-95ff-a02dbe9ca5d3",
   "metadata": {},
   "outputs": [],
   "source": [
    "#Decryption Function\n",
    "def decrypt(encrypted_message, private_key):\n",
    "    cipher = PKCS1_OAEP.new(RSA.import_key(private_key))\n",
    "    decrypted_message = cipher.decrypt(encrypted_message)\n",
    "    return decrypted_message"
   ]
  },
  {
   "cell_type": "code",
   "execution_count": 32,
   "id": "8fcd3122-4b2e-4478-8221-4bbf3b5df200",
   "metadata": {},
   "outputs": [
    {
     "name": "stdout",
     "output_type": "stream",
     "text": [
      "Plaintext: b'This is a secret message from TAJ'\n",
      "----output----\n",
      "Encrypted message: 62d3c7cff8c828942e6cf1cec114e44c43482f1b8c6176beae71829e03881e7445e16833ba21b1087321ecb34e5013768368eb6ed911debad83b95e60994461c106b0bdecf1c1f52bccceef5003171800a974905b1350169eed4b9231dd2d978b7390a20313cc37f5ffc866e8977f6a4fa1b0beb1516862c6e9b012825e98a806fb5b82db955a36519642e5bd903b9722a0eec3edfdc29aef919adc31217903f23a57c01e19a585960acd78ef0737e4fe22481b57ba3ea60b108c562a4581f3cccdc470bb7c4a2c3b334a8056e4a82a1bd77cb7855bf49e0141176407033360662304ba86a7b23622b7d5365a6b997d169227af03293886c682f1c65681584b2\n",
      "Decrypted message: This is a secret message from TAJ\n"
     ]
    }
   ],
   "source": [
    "# Example usage\n",
    "plaintext = b\"This is a secret message from TAJ\"\n",
    "print(\"Plaintext:\", plaintext)\n",
    "print(\"----output----\")\n",
    "# Generate key pair\n",
    "public_key, private_key = generate_key_pair()\n",
    "# Encrypt the message\n",
    "encrypted_message = encrypt(plaintext, public_key)\n",
    "print(\"Encrypted message:\", encrypted_message.hex())\n",
    "# Decrypt the message\n",
    "decrypted_message = decrypt(encrypted_message, private_key)\n",
    "print(\"Decrypted message:\", decrypted_message.decode())"
   ]
  },
  {
   "cell_type": "markdown",
   "id": "4e7f2b8d-66d6-441e-ac5f-1ba1c5312152",
   "metadata": {},
   "source": [
    "# 8.ElGamal Cryptosystem"
   ]
  },
  {
   "cell_type": "markdown",
   "id": "58cf2f6a-8bc4-4bd9-b67a-e1f71474b4c3",
   "metadata": {},
   "source": [
    "**primitive_root: This function finds a primitive root modulo a prime number. A primitive root g of a prime number p is an integer such that the powers of g generate all the integers from 1 to p-1 when taken modulo p.**"
   ]
  },
  {
   "cell_type": "code",
   "execution_count": 33,
   "id": "9e085092-a1f6-4ce6-afc8-f6cce65b872e",
   "metadata": {},
   "outputs": [],
   "source": [
    "# Sympy is a Python library for symbolic mathematics.\n",
    "from sympy import primitive_root,randprime\n",
    "import random"
   ]
  },
  {
   "cell_type": "code",
   "execution_count": 34,
   "id": "9b2c724e-b097-476e-84aa-0dffb5603b6e",
   "metadata": {},
   "outputs": [],
   "source": [
    "# The number for which we want to find the primitive root\n",
    "prime = randprime(124,10**3)\n",
    "root = primitive_root(prime)"
   ]
  },
  {
   "cell_type": "code",
   "execution_count": 35,
   "id": "f5c8824d-5bfc-4bba-9c9d-6c070b1cec10",
   "metadata": {},
   "outputs": [],
   "source": [
    "d=random.randint(1,(prime-2)) # It is private key."
   ]
  },
  {
   "cell_type": "code",
   "execution_count": 36,
   "id": "2c351f63-105f-4be5-952c-f6e792d4591d",
   "metadata": {},
   "outputs": [],
   "source": [
    "e=(pow(root,d)%prime)  # It is public key.\n",
    "r=random.randint(1,10)  # Select a random integer."
   ]
  },
  {
   "cell_type": "code",
   "execution_count": 37,
   "id": "4c87cad9-9c15-46c8-bd1b-03ea7e4cb4c4",
   "metadata": {},
   "outputs": [],
   "source": [
    "#Define the plaintext.\n",
    "plaintext = \"This is a secret message\""
   ]
  },
  {
   "cell_type": "code",
   "execution_count": 38,
   "id": "5c3a41f5-9719-43b0-b0e3-49cce689c450",
   "metadata": {},
   "outputs": [
    {
     "name": "stdout",
     "output_type": "stream",
     "text": [
      "[(537, 168), (537, 208), (537, 210), (537, 230), (537, 64), (537, 210), (537, 230), (537, 64), (537, 194), (537, 64), (537, 230), (537, 202), (537, 198), (537, 228), (537, 202), (537, 232), (537, 64), (537, 218), (537, 202), (537, 230), (537, 230), (537, 194), (537, 206), (537, 202)]\n"
     ]
    }
   ],
   "source": [
    "# Encryption Algorithm.\n",
    "ciphertext=[]\n",
    "for char in plaintext:\n",
    "  ciphertext1=(pow(root,r)%prime)\n",
    "  ciphertext2=((ord(char)*pow(e,r))%prime)\n",
    "  ciphertext.append((ciphertext1,ciphertext2))\n",
    "print(ciphertext)"
   ]
  },
  {
   "cell_type": "code",
   "execution_count": 39,
   "id": "321e8b3e-49bf-4952-9d1d-2fa1fcc70c25",
   "metadata": {},
   "outputs": [
    {
     "name": "stdout",
     "output_type": "stream",
     "text": [
      "This is a secret message\n"
     ]
    }
   ],
   "source": [
    "#Decryption Algorithm\n",
    "plaintext=\"\"\n",
    "for pair in ciphertext:\n",
    "  ciphertext1,ciphertext2=pair\n",
    "  value=pow(ciphertext1,d)\n",
    "  multinv = pow(value,-1,prime)\n",
    "  decrypt_char = (ciphertext2*multinv) % prime\n",
    "  plaintext += chr(decrypt_char)\n",
    "print(plaintext)"
   ]
  },
  {
   "cell_type": "markdown",
   "id": "6fe8df9e-3795-4231-96ce-edf72763eee6",
   "metadata": {},
   "source": [
    "# 9.Rabin Cryptosystem"
   ]
  },
  {
   "cell_type": "code",
   "execution_count": 40,
   "id": "a2038903-0b32-4e4c-8b9d-c0a28997f2b6",
   "metadata": {},
   "outputs": [
    {
     "name": "stdout",
     "output_type": "stream",
     "text": [
      "Public key (n): 161, Private keys (p, q): (23, 7)\n",
      "Original message: 24\n",
      "Encrypted message (ciphertext): 93\n",
      "Decrypted possible messages: (116, 45, 24, 137)\n"
     ]
    }
   ],
   "source": [
    "# Helper function: Extended Euclidean Algorithm to find the modular inverse\n",
    "def extended_gcd(a, b):\n",
    "    if b == 0:\n",
    "        return a, 1, 0\n",
    "    gcd, x1, y1 = extended_gcd(b, a % b)\n",
    "    x = y1\n",
    "    y = x1 - (a // b) * y1\n",
    "    return gcd, x, y\n",
    "\n",
    "def mod_inverse(a, m):\n",
    "    gcd, x, _ = extended_gcd(a, m)\n",
    "    if gcd != 1:\n",
    "        raise ValueError(\"Modular inverse does not exist\")\n",
    "    else:\n",
    "        return x % m\n",
    "\n",
    "# Helper function: Modular Exponentiation\n",
    "def mod_exp(base, exp, mod):\n",
    "    result = 1\n",
    "    base = base % mod\n",
    "    while exp > 0:\n",
    "        if (exp % 2) == 1:  # If exp is odd, multiply base with result\n",
    "            result = (result * base) % mod\n",
    "        exp = exp >> 1  # Divide the exponent by 2\n",
    "        base = (base * base) % mod  # Square the base\n",
    "    return result\n",
    "\n",
    "# Step 1: Key Generation\n",
    "def generate_keys():\n",
    "    # Prime numbers p and q (small values for simplicity, use larger primes in real-world use)\n",
    "    p = 23\n",
    "    q = 7\n",
    "    n = p * q\n",
    "    return p, q, n\n",
    "\n",
    "# Step 2: Encryption (Public key is n, plaintext is m)\n",
    "def encrypt(m, n):\n",
    "    return mod_exp(m, 2, n)\n",
    "\n",
    "# Step 3: Decryption (Private keys are p, q)\n",
    "def decrypt(c, p, q, n):\n",
    "    # Compute square roots modulo p and q\n",
    "    mp = mod_exp(c, (p + 1) // 4, p)\n",
    "    mq = mod_exp(c, (q + 1) // 4, q)\n",
    "    \n",
    "    # Use Chinese Remainder Theorem to get four possible plaintexts\n",
    "    inv_q = mod_inverse(q, p)\n",
    "    inv_p = mod_inverse(p, q)\n",
    "    \n",
    "    x1 = (mp * q * inv_q + mq * p * inv_p) % n\n",
    "    x2 = (mp * q * inv_q - mq * p * inv_p) % n\n",
    "    \n",
    "    # Return the four possible solutions\n",
    "    return x1, n - x1, x2, n - x2\n",
    "\n",
    "# Example Usage\n",
    "if __name__ == \"__main__\":\n",
    "    # Generate keys\n",
    "    p, q, n = generate_keys()\n",
    "    print(f\"Public key (n): {n}, Private keys (p, q): ({p}, {q})\")\n",
    "    \n",
    "    # Sample message (must be smaller than n)\n",
    "    m = 24\n",
    "    print(f\"Original message: {m}\")\n",
    "    \n",
    "    # Encrypt the message\n",
    "    c = encrypt(m, n)\n",
    "    print(f\"Encrypted message (ciphertext): {c}\")\n",
    "    \n",
    "    # Decrypt the ciphertext\n",
    "    possible_messages = decrypt(c, p, q, n)\n",
    "    print(f\"Decrypted possible messages: {possible_messages}\")"
   ]
  },
  {
   "cell_type": "markdown",
   "id": "f4aa732b-453e-4d1b-a080-803b173f867b",
   "metadata": {},
   "source": [
    "# 10.Playfair Cipher"
   ]
  },
  {
   "cell_type": "code",
   "execution_count": 41,
   "id": "bb8daf3f-e520-4c16-b372-f946a48fa0d5",
   "metadata": {},
   "outputs": [
    {
     "name": "stdout",
     "output_type": "stream",
     "text": [
      "Original Message: farhanaaktersuci\n",
      "Encrypted Message: IOODRABARILKATMESA\n",
      "Decrypted Message: FARHANAXAKTERSUCIX\n"
     ]
    }
   ],
   "source": [
    "# Playfair Cipher Encryption and Decryption\n",
    "\n",
    "# Function to generate 5x5 Playfair cipher key matrix\n",
    "def generate_key_matrix(key):\n",
    "    key = key.upper().replace('J', 'I')  # Replace J with I (common in Playfair Cipher)\n",
    "    key_matrix = []\n",
    "    used_letters = set()\n",
    "\n",
    "    for char in key:\n",
    "        if char not in used_letters and char.isalpha():\n",
    "            key_matrix.append(char)\n",
    "            used_letters.add(char)\n",
    "\n",
    "    # Add remaining letters to the matrix\n",
    "    for char in \"ABCDEFGHIKLMNOPQRSTUVWXYZ\":  # 'J' is omitted\n",
    "        if char not in used_letters:\n",
    "            key_matrix.append(char)\n",
    "            used_letters.add(char)\n",
    "\n",
    "    # Return as a 5x5 matrix\n",
    "    return [key_matrix[i:i+5] for i in range(0, 25, 5)]\n",
    "\n",
    "# Function to split message into digraphs (pairs of letters)\n",
    "def prepare_message(message):\n",
    "    message = message.upper().replace('J', 'I')  # Replace J with I\n",
    "    digraphs = []\n",
    "    i = 0\n",
    "    while i < len(message):\n",
    "        char1 = message[i]\n",
    "        if i + 1 < len(message):\n",
    "            char2 = message[i + 1]\n",
    "            if char1 != char2:\n",
    "                digraphs.append(char1 + char2)\n",
    "                i += 2\n",
    "            else:\n",
    "                digraphs.append(char1 + 'X')  # Insert X between repeated letters\n",
    "                i += 1\n",
    "        else:\n",
    "            digraphs.append(char1 + 'X')  # Add X if the last letter is single\n",
    "            i += 1\n",
    "    return digraphs\n",
    "\n",
    "# Function to find the position of a letter in the key matrix\n",
    "def find_position(char, key_matrix):\n",
    "    for row in range(5):\n",
    "        for col in range(5):\n",
    "            if key_matrix[row][col] == char:\n",
    "                return row, col\n",
    "    return None\n",
    "\n",
    "# Encryption function\n",
    "def encrypt(plaintext, key):\n",
    "    key_matrix = generate_key_matrix(key)\n",
    "    digraphs = prepare_message(plaintext)\n",
    "    ciphertext = \"\"\n",
    "\n",
    "    for digraph in digraphs:\n",
    "        row1, col1 = find_position(digraph[0], key_matrix)\n",
    "        row2, col2 = find_position(digraph[1], key_matrix)\n",
    "\n",
    "        # Same row: Shift right\n",
    "        if row1 == row2:\n",
    "            ciphertext += key_matrix[row1][(col1 + 1) % 5]\n",
    "            ciphertext += key_matrix[row2][(col2 + 1) % 5]\n",
    "        # Same column: Shift down\n",
    "        elif col1 == col2:\n",
    "            ciphertext += key_matrix[(row1 + 1) % 5][col1]\n",
    "            ciphertext += key_matrix[(row2 + 1) % 5][col2]\n",
    "        # Rectangle swap\n",
    "        else:\n",
    "            ciphertext += key_matrix[row1][col2]\n",
    "            ciphertext += key_matrix[row2][col1]\n",
    "\n",
    "    return ciphertext\n",
    "\n",
    "# Decryption function\n",
    "def decrypt(ciphertext, key):\n",
    "    key_matrix = generate_key_matrix(key)\n",
    "    digraphs = [ciphertext[i:i+2] for i in range(0, len(ciphertext), 2)]\n",
    "    plaintext = \"\"\n",
    "\n",
    "    for digraph in digraphs:\n",
    "        row1, col1 = find_position(digraph[0], key_matrix)\n",
    "        row2, col2 = find_position(digraph[1], key_matrix)\n",
    "\n",
    "        # Same row: Shift left\n",
    "        if row1 == row2:\n",
    "            plaintext += key_matrix[row1][(col1 - 1) % 5]\n",
    "            plaintext += key_matrix[row2][(col2 - 1) % 5]\n",
    "        # Same column: Shift up\n",
    "        elif col1 == col2:\n",
    "            plaintext += key_matrix[(row1 - 1) % 5][col1]\n",
    "            plaintext += key_matrix[(row2 - 1) % 5][col2]\n",
    "        # Rectangle swap\n",
    "        else:\n",
    "            plaintext += key_matrix[row1][col2]\n",
    "            plaintext += key_matrix[row2][col1]\n",
    "\n",
    "    return plaintext\n",
    "\n",
    "# Example Usage\n",
    "key = \"MONARCHY\"\n",
    "message = \"farhanaaktersuci\"\n",
    "print(\"Original Message:\", message)\n",
    "ciphertext = encrypt(message, key)\n",
    "print(\"Encrypted Message:\", ciphertext)\n",
    "decrypted_message = decrypt(ciphertext, key)\n",
    "print(\"Decrypted Message:\", decrypted_message)"
   ]
  },
  {
   "cell_type": "code",
   "execution_count": null,
   "id": "f352b442-b08d-4315-a702-f42241ce3ae0",
   "metadata": {},
   "outputs": [],
   "source": []
  }
 ],
 "metadata": {
  "kernelspec": {
   "display_name": "Python 3 (ipykernel)",
   "language": "python",
   "name": "python3"
  },
  "language_info": {
   "codemirror_mode": {
    "name": "ipython",
    "version": 3
   },
   "file_extension": ".py",
   "mimetype": "text/x-python",
   "name": "python",
   "nbconvert_exporter": "python",
   "pygments_lexer": "ipython3",
   "version": "3.12.3"
  }
 },
 "nbformat": 4,
 "nbformat_minor": 5
}
