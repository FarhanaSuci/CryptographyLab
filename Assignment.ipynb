{
 "cells": [
  {
   "cell_type": "markdown",
   "id": "db0c5f75-a1e6-4dfd-9215-2cb5fb4a6df5",
   "metadata": {},
   "source": [
    "# 1.Caesar Cipher or Additive Cipher or Shift Cipher\n"
   ]
  },
  {
   "cell_type": "markdown",
   "id": "07e3599e-2fb8-430c-a533-3c74f211a6dc",
   "metadata": {},
   "source": [
    "**The encryption formula is En(x) = (x + n) mod 26 and the Decryption formula is Dn(x) = (x – n) mod 26.**"
   ]
  },
  {
   "cell_type": "code",
   "execution_count": 17,
   "id": "a90c530c-da61-42c7-9663-0d79549fe099",
   "metadata": {},
   "outputs": [],
   "source": [
    "#Encryption Function\n",
    "def encryption(plaintext, key):\n",
    "    text = plaintext.lower()\n",
    "    #Range of lowercase letter is 97 to 122\n",
    "    ciphertext = \"\"\n",
    "    for char in text:\n",
    "        uniCode = ord(char)\n",
    "        if uniCode >= 97 and uniCode <= 122:\n",
    "            value = uniCode - 97\n",
    "            valueAfterShifting = (value + key) % 26\n",
    "            uniCode = valueAfterShifting + 97\n",
    "            new_char = chr(uniCode).upper()\n",
    "            ciphertext = ciphertext + new_char\n",
    "        else:\n",
    "            ciphertext = ciphertext + char\n",
    "    return ciphertext"
   ]
  },
  {
   "cell_type": "code",
   "execution_count": 18,
   "id": "b87a4198-f176-4bb6-8996-f4c2e086e0a0",
   "metadata": {},
   "outputs": [],
   "source": [
    "#Decryption Function\n",
    "def decryption(ciphertext, key):\n",
    "    text = ciphertext\n",
    "    #Range of uppercase letter is 65 to 90\n",
    "    plaintext = \"\"\n",
    "    for char in text:\n",
    "        uniCode = ord(char)\n",
    "        if uniCode >= 65 and uniCode <= 90:\n",
    "            value = uniCode - 65\n",
    "            valueAfterShifting = (value - key) % 26\n",
    "            uniCode = valueAfterShifting + 65+32\n",
    "            new_char = chr(uniCode)\n",
    "            plaintext = plaintext + new_char\n",
    "        else:\n",
    "            plaintext = plaintext + char\n",
    "    return plaintext"
   ]
  },
  {
   "cell_type": "code",
   "execution_count": 19,
   "id": "720bfb2f-5bd1-49e1-a642-bdd25d301db1",
   "metadata": {},
   "outputs": [
    {
     "name": "stdin",
     "output_type": "stream",
     "text": [
      "Enter the plaintext:  jnucse\n",
      "Enter the key:  5\n"
     ]
    },
    {
     "name": "stdout",
     "output_type": "stream",
     "text": [
      "Given plaintext:  jnucse\n",
      "Entered key :  5\n",
      "Ciphertext:  OSZHXJ\n",
      "Decrypted plaintext:  jnucse\n"
     ]
    }
   ],
   "source": [
    "#Input Section\n",
    "plaintext = input(\"Enter the plaintext: \")\n",
    "key = int(input(\"Enter the key: \"))\n",
    "\n",
    "#Function Calling\n",
    "ciphertext = encryption(plaintext, key)\n",
    "decrypted_text = decryption(ciphertext, key)\n",
    "\n",
    "#Output Section\n",
    "print(\"Given plaintext: \", plaintext)\n",
    "print(\"Entered key : \", key)\n",
    "print(\"Ciphertext: \", ciphertext)\n",
    "print(\"Decrypted plaintext: \", decrypted_text)"
   ]
  },
  {
   "cell_type": "markdown",
   "id": "eeb98ea7-accd-4a47-b04e-929be9f85423",
   "metadata": {},
   "source": [
    "# 2.Vigenere Cipher"
   ]
  },
  {
   "cell_type": "markdown",
   "id": "d9932572-cf43-4106-8622-158518af3381",
   "metadata": {},
   "source": [
    "**The main difference between the Caesar cipher and the Vigenere cipher is the way they handle the shift. In the Caesar cipher, the shift is fixed and applies to every letter in the plaintext. In the Vigenere cipher, the shift varies for each letter, depending on the corresponding letter in the keyword. This makes the Vigenere cipher more secure than the Caesar cipher.**"
   ]
  },
  {
   "cell_type": "code",
   "execution_count": 39,
   "id": "1504c008-a1ca-4cef-b70b-42cf5850c482",
   "metadata": {},
   "outputs": [],
   "source": [
    "#Key Generation\n",
    "def key_generation(key):\n",
    "    key_len = len(key)\n",
    "    key_stream = [0]*key_len\n",
    "    key = key.lower()\n",
    "    for i in range(key_len):\n",
    "        uniCode=ord(key[i])\n",
    "        value = uniCode - 97\n",
    "        key_stream[i] = value\n",
    "    return key_stream\n"
   ]
  },
  {
   "cell_type": "code",
   "execution_count": 40,
   "id": "5f3b00b6-14e3-41ac-89c0-269eda283436",
   "metadata": {},
   "outputs": [],
   "source": [
    "#Encryption Function\n",
    "def encryption(plaintext, key_stream):\n",
    "    text = plaintext.lower()\n",
    "    key_size = len(key_stream)\n",
    "    ciphertext = \"\"\n",
    "    j = 0\n",
    "    for char in text:\n",
    "        unicode = ord(char)\n",
    "        if unicode>=97 and unicode<=122:\n",
    "            #Storing the key for current plaintext character\n",
    "            key = key_stream[j]\n",
    "            if j==(key_size-1): \n",
    "                j = 0\n",
    "            else: \n",
    "                j = j+1\n",
    "            #Calculating the ciphertext charater\n",
    "            value = unicode - 97\n",
    "            valueAfterShifting = (value + key) % 26\n",
    "            unicode = valueAfterShifting + 97\n",
    "            new_char = chr(unicode)\n",
    "            ciphertext = ciphertext + new_char\n",
    "            ciphertext=ciphertext.upper()\n",
    "        else:\n",
    "            ciphertext = ciphertext + char\n",
    "    return ciphertext"
   ]
  },
  {
   "cell_type": "code",
   "execution_count": 41,
   "id": "68dd1cef-2e29-4412-97d0-c3bc3b467bc8",
   "metadata": {},
   "outputs": [],
   "source": [
    "#Decryption Function\n",
    "def decryption(ciphertext, key_stream):\n",
    "    text = ciphertext\n",
    "    key_size = len(key_stream)\n",
    "    plaintext = \"\"\n",
    "    j = 0\n",
    "    for char in text:\n",
    "        unicode = ord(char)\n",
    "        if unicode>=65 and unicode<=90:\n",
    "            #Storing the key for current ciphertext character\n",
    "            key = key_stream[j]\n",
    "            if j==(key_size-1): \n",
    "                j = 0\n",
    "            else: \n",
    "                j = j+1\n",
    "            #Calculating the plaintext charater\n",
    "            value = unicode - 65\n",
    "            valueAfterShifting = (value - key) % 26\n",
    "            unicode = valueAfterShifting + 65+32\n",
    "            new_char = chr(unicode)\n",
    "            plaintext = plaintext + new_char\n",
    "        else:\n",
    "            plaintext = plaintext + char\n",
    "    return plaintext"
   ]
  },
  {
   "cell_type": "code",
   "execution_count": 42,
   "id": "f3b48cbb-829d-42eb-b708-7f3e6cd15839",
   "metadata": {},
   "outputs": [
    {
     "name": "stdin",
     "output_type": "stream",
     "text": [
      "Enter the plaintext:  csejnu\n",
      "Enter the key:  cse\n"
     ]
    },
    {
     "name": "stdout",
     "output_type": "stream",
     "text": [
      "Given Plaintext:  csejnu\n",
      "Entered key:  cse\n",
      "Key Stream :  [2, 18, 4]\n",
      "Ciphertext:  EKILFY\n",
      "Decrypted text:  csejnu\n"
     ]
    }
   ],
   "source": [
    "#Input Section\n",
    "plaintext = input(\"Enter the plaintext: \")\n",
    "key = input(\"Enter the key: \")\n",
    "\n",
    "#Function Calling\n",
    "key_stream = key_generation(key)\n",
    "ciphertext = encryption(plaintext, key_stream)\n",
    "decrypted_text = decryption(ciphertext, key_stream)\n",
    "\n",
    "#Output Section\n",
    "print(\"Given Plaintext: \", plaintext)\n",
    "print(\"Entered key: \", key)\n",
    "print(\"Key Stream : \", key_stream)\n",
    "print(\"Ciphertext: \", ciphertext)\n",
    "print(\"Decrypted text: \", decrypted_text)"
   ]
  },
  {
   "cell_type": "markdown",
   "id": "f71b93e2-17d3-4970-92d2-9c3c0617dbae",
   "metadata": {},
   "source": [
    "# 3.Multiplicative Cipher"
   ]
  },
  {
   "cell_type": "markdown",
   "id": "79bcf083-0e1f-4ce6-9b66-b540ae660c46",
   "metadata": {},
   "source": [
    "**C = (P * K) Mod 26\n",
    "Here,\n",
    "C = Cipher text,\n",
    "P = Plain text,\n",
    "K = Key,\n",
    "Mod = Modulus**\n"
   ]
  },
  {
   "cell_type": "markdown",
   "id": "71482c46-33bd-4570-bb48-a9e08a07e770",
   "metadata": {},
   "source": [
    "**Decryption= (C * Multiplication inverse of the key) Mod 26.\n",
    "Here,\n",
    "c = ciphertext,\n",
    "Mod = Modulo**"
   ]
  },
  {
   "cell_type": "code",
   "execution_count": 43,
   "id": "ecd85e56-97c9-4df5-a1d8-9ba9f8449ea3",
   "metadata": {},
   "outputs": [],
   "source": [
    "#Encryption Function\n",
    "def encryption(plaintext, key):\n",
    "    text = plaintext.lower()\n",
    "    ciphertext = \"\"\n",
    "    for char in text:\n",
    "        order = ord(char)\n",
    "        #Range of lowercase letter is 97 to 122\n",
    "        if order>= 97 and order<=122:\n",
    "            order = order - 97\n",
    "            order = (order * key) % 26\n",
    "            order = order + 97\n",
    "            new_char = chr(order)\n",
    "            ciphertext = ciphertext + new_char\n",
    "            ciphertext=ciphertext.upper()\n",
    "        else:\n",
    "            ciphertext = ciphertext + char\n",
    "    return ciphertext"
   ]
  },
  {
   "cell_type": "code",
   "execution_count": 44,
   "id": "bf1648c1-b21b-4690-b2e7-5d5dad4e7d17",
   "metadata": {},
   "outputs": [],
   "source": [
    "#Decryption Function\n",
    "def decryption(ciphertext, key):\n",
    "    #finding multiplicative inverse of the key\n",
    "    key_inv = pow(key, -1, 26)\n",
    "    plaintext = \"\"\n",
    "    for char in text:\n",
    "        order = ord(char)\n",
    "        #Range of uppercase letter is 65 to 90\n",
    "        if order>= 65 and order<=90:\n",
    "            order = order - 65\n",
    "            order = (order * key_inv) % 26\n",
    "            order = order + 65\n",
    "            new_char = chr(order)\n",
    "            plaintext = plaintext + new_char\n",
    "        else:\n",
    "            plaintext = plaintext + char\n",
    "    return plaintext"
   ]
  },
  {
   "cell_type": "code",
   "execution_count": 46,
   "id": "6df898e4-d331-4c16-9be8-49dbe62999dd",
   "metadata": {},
   "outputs": [
    {
     "name": "stdin",
     "output_type": "stream",
     "text": [
      "Enter the plaintext:  suci\n",
      "Enter the key:  3\n"
     ]
    },
    {
     "name": "stdout",
     "output_type": "stream",
     "text": [
      "Entered plaintext :  suci\n",
      "Entered key :  3\n",
      "Cipher text:  cigy\n",
      "Decrypted plaintext:  SUCI\n"
     ]
    }
   ],
   "source": [
    "#Input Section\n",
    "plaintext = input(\"Enter the plaintext: \")\n",
    "key = int(input(\"Enter the key: \"))\n",
    "\n",
    "#Function Calling\n",
    "ciphertext = encryption(plaintext, key)\n",
    "decrypted_text = decryption(ciphertext, key)\n",
    "\n",
    "#Output Section\n",
    "print(\"Entered plaintext : \", plaintext)\n",
    "print(\"Entered key : \",key)\n",
    "print(\"Cipher text: \", ciphertext)\n",
    "print(\"Decrypted plaintext: \", decrypted_text)"
   ]
  },
  {
   "cell_type": "code",
   "execution_count": null,
   "id": "dabad2e4-029d-49e4-b0a4-13bb8522f536",
   "metadata": {},
   "outputs": [],
   "source": []
  }
 ],
 "metadata": {
  "kernelspec": {
   "display_name": "Python 3 (ipykernel)",
   "language": "python",
   "name": "python3"
  },
  "language_info": {
   "codemirror_mode": {
    "name": "ipython",
    "version": 3
   },
   "file_extension": ".py",
   "mimetype": "text/x-python",
   "name": "python",
   "nbconvert_exporter": "python",
   "pygments_lexer": "ipython3",
   "version": "3.12.3"
  }
 },
 "nbformat": 4,
 "nbformat_minor": 5
}
